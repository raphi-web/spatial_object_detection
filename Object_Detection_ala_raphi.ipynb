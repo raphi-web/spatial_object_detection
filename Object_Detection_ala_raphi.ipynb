{
  "nbformat": 4,
  "nbformat_minor": 0,
  "metadata": {
    "colab": {
      "name": "Object_Detection_ala_raphi.ipynb",
      "provenance": [],
      "collapsed_sections": [],
      "toc_visible": true,
      "authorship_tag": "ABX9TyPpNVywHqrZsRZlCIskpEXs",
      "include_colab_link": true
    },
    "kernelspec": {
      "name": "python3",
      "display_name": "Python 3"
    },
    "language_info": {
      "name": "python"
    },
    "accelerator": "GPU"
  },
  "cells": [
    {
      "cell_type": "markdown",
      "metadata": {
        "id": "view-in-github",
        "colab_type": "text"
      },
      "source": [
        "<a href=\"https://colab.research.google.com/github/raphi-web/spatial_object_detection/blob/main/Object_Detection_ala_raphi.ipynb\" target=\"_parent\"><img src=\"https://colab.research.google.com/assets/colab-badge.svg\" alt=\"Open In Colab\"/></a>"
      ]
    },
    {
      "cell_type": "markdown",
      "metadata": {
        "id": "Bdq9c4X0ZRqu"
      },
      "source": [
        "# Raphis super awsome Object-Detection colab, \n",
        "# not at all a mix of  copy past from other sources! \n",
        "\n",
        "# Chane your runtime to GPU for performance!\n",
        "\n",
        "## How it works,\n",
        "Basically I use pre trained models from the [tensor flow the model zoo](https://github.com/tensorflow/models/blob/master/research/object_detection/g3doc/tf2_detection_zoo.md) too train a classifier. Oh yeah and I had to completely rewrite a this [Colab](https://colab.research.google.com/github/Tony607/object_detection_demo/blob/master/tensorflow_object_detection_training_colab.ipynb). Because it 1. too complicated and 2. made for tensorflow 1 not the version 2 that is now in colab.\n",
        "\n",
        "### For spatial detection:\n",
        "Spatial Datasets are very large pictures easily feature more than 5000 pixels. For this reason, first you have to tile your image. **You can use qgis to export the tiles as vtr layer**. \n",
        "\n",
        "You can convert the tif files with the code in my github repository:\n",
        "https://github.com/raphi-web/spatial_object_detection \n",
        "\n",
        "Then it gets trained by \n",
        "\n"
      ]
    },
    {
      "cell_type": "code",
      "metadata": {
        "id": "v2R8VvifZSbP"
      },
      "source": [
        "!apt-get install -qq protobuf-compiler python-pil python-lxml python-tk\n",
        "!pip install -q Cython contextlib2 pillow lxml matplotlib pycocotools tf_slim lvis tensorflow_addons"
      ],
      "execution_count": null,
      "outputs": []
    },
    {
      "cell_type": "code",
      "metadata": {
        "colab": {
          "base_uri": "https://localhost:8080/"
        },
        "id": "ncLl64_79kz4",
        "outputId": "bc3ec413-1d6f-4613-8431-7557f122feeb"
      },
      "source": [
        "!git clone https://github.com/tensorflow/models.git -q\n",
        "! cd models/research && protoc object_detection/protos/*.proto --python_out=."
      ],
      "execution_count": 2,
      "outputs": [
        {
          "output_type": "stream",
          "text": [
            "fatal: destination path 'models' already exists and is not an empty directory.\n"
          ],
          "name": "stdout"
        }
      ]
    },
    {
      "cell_type": "code",
      "metadata": {
        "id": "YMRU5l4s0VJU"
      },
      "source": [
        "import os\n",
        "import sys\n",
        "from google.colab import files\n",
        "#from object_detection.utils import label_map_util\n",
        "import re\n",
        "import shutil\n",
        "import glob\n",
        "import urllib.request\n",
        "import tarfile\n",
        "import tensorflow as tf"
      ],
      "execution_count": 3,
      "outputs": []
    },
    {
      "cell_type": "code",
      "metadata": {
        "id": "Xc6gFprs0aTR"
      },
      "source": [
        "num_steps = 20000 \n",
        "num_eval_steps = 50"
      ],
      "execution_count": 4,
      "outputs": []
    },
    {
      "cell_type": "markdown",
      "metadata": {
        "id": "i0y_zTdCItJz"
      },
      "source": [
        "1. https://github.com/tensorflow/models/blob/master/research/object_detection/g3doc/tf2_detection_zoo.md\n",
        "2.Faster R-CNN ResNet101 V1 800x1333"
      ]
    },
    {
      "cell_type": "code",
      "metadata": {
        "id": "RPA14ayT0bWM"
      },
      "source": [
        "MODELS_CONFIG = {\n",
        "    \n",
        "        'centernet': {\n",
        "        'model_name': 'centernet_hg104_512x512_coco17_tpu-8',\n",
        "        'batch_size':2\n",
        "    },\n",
        "        'faster_rcnn': {\n",
        "        'model_name': 'faster_rcnn_resnet101_v1_800x1333_coco17_gpu-8',\n",
        "        'batch_size':2\n",
        "    }\n",
        "\n",
        "}"
      ],
      "execution_count": 5,
      "outputs": []
    },
    {
      "cell_type": "code",
      "metadata": {
        "id": "4maX-faM0ldR"
      },
      "source": [
        "num_classes = 1\n",
        "selected_model = 'centernet'\n",
        "MODEL = MODELS_CONFIG[selected_model]['model_name']"
      ],
      "execution_count": 6,
      "outputs": []
    },
    {
      "cell_type": "code",
      "metadata": {
        "id": "CtglQqNS0s7Z"
      },
      "source": [
        "MODEL_FILE = MODEL + '.tar.gz'\n",
        "DOWNLOAD_BASE = 'http://download.tensorflow.org/models/object_detection/tf2/20200711/'\n",
        "DEST_DIR = '/content/loaded_model'\n",
        "\n",
        "\n",
        "\n",
        "if not (os.path.exists(MODEL_FILE)):\n",
        "    urllib.request.urlretrieve(DOWNLOAD_BASE + MODEL_FILE, MODEL_FILE)\n",
        "\n",
        "tar = tarfile.open(MODEL_FILE)\n",
        "tar.extractall()\n",
        "tar.close()\n",
        "\n",
        "os.remove(MODEL_FILE)\n",
        "if (os.path.exists(DEST_DIR)):\n",
        "    shutil.rmtree(DEST_DIR)\n",
        "os.rename(MODEL, DEST_DIR)"
      ],
      "execution_count": 7,
      "outputs": []
    },
    {
      "cell_type": "code",
      "metadata": {
        "id": "fZzZhFub09fE"
      },
      "source": [
        "pipeline_file = \"loaded_model/pipeline.config\"\n",
        "batch_size = MODELS_CONFIG[selected_model]['batch_size']"
      ],
      "execution_count": 8,
      "outputs": []
    },
    {
      "cell_type": "code",
      "metadata": {
        "colab": {
          "resources": {
            "http://localhost:8080/nbextensions/google.colab/files.js": {
              "data": "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",
              "ok": true,
              "headers": [
                [
                  "content-type",
                  "application/javascript"
                ]
              ],
              "status": 200,
              "status_text": "OK"
            }
          },
          "base_uri": "https://localhost:8080/",
          "height": 79
        },
        "id": "NBDP81vY1TVx",
        "outputId": "205d69a5-33af-4a3f-a4fa-38ac8655010a"
      },
      "source": [
        "# tfrecord upload\n",
        "train_record_fname = files.upload()\n",
        "train_record_fname = list(train_record_fname.keys())[0]\n"
      ],
      "execution_count": 9,
      "outputs": [
        {
          "output_type": "display_data",
          "data": {
            "text/html": [
              "\n",
              "     <input type=\"file\" id=\"files-ced971c0-9711-4620-8c60-9f0cb3a00f72\" name=\"files[]\" multiple disabled\n",
              "        style=\"border:none\" />\n",
              "     <output id=\"result-ced971c0-9711-4620-8c60-9f0cb3a00f72\">\n",
              "      Upload widget is only available when the cell has been executed in the\n",
              "      current browser session. Please rerun this cell to enable.\n",
              "      </output>\n",
              "      <script src=\"/nbextensions/google.colab/files.js\"></script> "
            ],
            "text/plain": [
              "<IPython.core.display.HTML object>"
            ]
          },
          "metadata": {
            "tags": []
          }
        },
        {
          "output_type": "stream",
          "text": [
            "Saving craters.tfrecord to craters (1).tfrecord\n"
          ],
          "name": "stdout"
        }
      ]
    },
    {
      "cell_type": "code",
      "metadata": {
        "colab": {
          "resources": {
            "http://localhost:8080/nbextensions/google.colab/files.js": {
              "data": "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",
              "ok": true,
              "headers": [
                [
                  "content-type",
                  "application/javascript"
                ]
              ],
              "status": 200,
              "status_text": "OK"
            }
          },
          "base_uri": "https://localhost:8080/",
          "height": 79
        },
        "id": "17oTvvIa1ZIr",
        "outputId": "fc2591cb-b577-4e51-d18d-2be84b386451"
      },
      "source": [
        "# label_map_upload\n",
        "label_map_pbtxt_fname =files.upload()\n",
        "label_map_pbtxt_fname = list(label_map_pbtxt_fname.keys())[0]"
      ],
      "execution_count": 10,
      "outputs": [
        {
          "output_type": "display_data",
          "data": {
            "text/html": [
              "\n",
              "     <input type=\"file\" id=\"files-b886eca1-796c-4145-8cdd-9f7560abfb02\" name=\"files[]\" multiple disabled\n",
              "        style=\"border:none\" />\n",
              "     <output id=\"result-b886eca1-796c-4145-8cdd-9f7560abfb02\">\n",
              "      Upload widget is only available when the cell has been executed in the\n",
              "      current browser session. Please rerun this cell to enable.\n",
              "      </output>\n",
              "      <script src=\"/nbextensions/google.colab/files.js\"></script> "
            ],
            "text/plain": [
              "<IPython.core.display.HTML object>"
            ]
          },
          "metadata": {
            "tags": []
          }
        },
        {
          "output_type": "stream",
          "text": [
            "Saving craters_label_map.pbtxt to craters_label_map (1).pbtxt\n"
          ],
          "name": "stdout"
        }
      ]
    },
    {
      "cell_type": "code",
      "metadata": {
        "id": "UFaA-wrU2Bcq"
      },
      "source": [
        "fine_tune_checkpoint = \"loaded_model/checkpoint/ckpt-0\"\n",
        "old_config =\"loaded_model/pipeline.config\"\n",
        "new_config = \"loaded_model/custom.config\"\n",
        "\n",
        "try:\n",
        "  os.remove(new_config)\n",
        "except:\n",
        "  pass\n",
        "\n",
        "shutil.copyfile(old_config,new_config)\n",
        "pipeline_file = new_config\n",
        "\n",
        "with open(pipeline_file) as f:\n",
        "    s = f.read()\n",
        "\n",
        "with open(pipeline_file, 'w') as f:\n",
        "    # fine_tune_checkpoint\n",
        "    s = re.sub('fine_tune_checkpoint: \".*?\"',\n",
        "               'fine_tune_checkpoint: \"{}\"'.format(fine_tune_checkpoint), s)\n",
        "\n",
        "\n",
        "    # tfrecord files train and test.\n",
        "    s = re.sub(\n",
        "        '(input_path: \".*?)(.tfrecord)(.*?\")', 'input_path: \"{}\"'.format(train_record_fname), s)\n",
        "      \n",
        "    s = re.sub('fine_tune_checkpoint_type: \".*?\"',\n",
        "               'fine_tune_checkpoint_type: \"{}\"'.format(\"detection\"), s)\n",
        "\n",
        "\n",
        "    \"\"\"\n",
        "    fine_tune_checkpoint_type: \"classification\"\n",
        "    s = re.sub(\n",
        "        '(input_path: \".*?)(val.record)(.*?\")', 'input_path: \"{}\"'.format(test_record_fname), s)\n",
        "    \"\"\"\n",
        "\n",
        "    # label_map_path\n",
        "    s = re.sub(\n",
        "        'label_map_path: \".*?\"', 'label_map_path: \"{}\"'.format(label_map_pbtxt_fname), s)\n",
        "\n",
        "    # Set training batch_size.\n",
        "    s = re.sub('batch_size: [0-9]+',\n",
        "               'batch_size: {}'.format(batch_size), s)\n",
        "\n",
        "    # Set training steps, num_steps\n",
        "    s = re.sub('num_steps: [0-9]+',\n",
        "               'num_steps: {}'.format(num_steps), s)\n",
        "    \n",
        "    # Set number of classes num_classes.\n",
        "    s = re.sub('num_classes: [0-9]+',\n",
        "               'num_classes: {}'.format(num_classes), s)\n",
        "    f.write(s)\n",
        "\n",
        "pipeline_file = new_config"
      ],
      "execution_count": 11,
      "outputs": []
    },
    {
      "cell_type": "code",
      "metadata": {
        "id": "5igIleG5_3-2"
      },
      "source": [
        "os.environ['PYTHONPATH'] += ':/content/models/research/:/content/models/research/slim/'\n",
        "os.environ['PYTHONPATH'] += \":/content/models\"\n",
        "sys.path.append(\"/content/models\")"
      ],
      "execution_count": 12,
      "outputs": []
    },
    {
      "cell_type": "code",
      "metadata": {
        "id": "wU4t4LMR_6eK"
      },
      "source": [
        "#!python models/research/object_detection/builders/model_builder_tf2_test.py"
      ],
      "execution_count": 13,
      "outputs": []
    },
    {
      "cell_type": "code",
      "metadata": {
        "id": "BD_OSggbC0si"
      },
      "source": [
        "model_dir = \"results\""
      ],
      "execution_count": 14,
      "outputs": []
    },
    {
      "cell_type": "code",
      "metadata": {
        "colab": {
          "base_uri": "https://localhost:8080/"
        },
        "id": "q-4puxYP8EGA",
        "outputId": "b7afa34b-07b0-402d-8505-737e13450edc"
      },
      "source": [
        "!python /content/models/research/object_detection/model_main_tf2.py \\\n",
        "    --pipeline_config_path={pipeline_file} \\\n",
        "    --model_dir={model_dir} \\\n",
        "    --alsologtostderr \\\n",
        "    --num_train_steps={num_steps} \\\n",
        "    --num_eval_steps={num_eval_steps}"
      ],
      "execution_count": null,
      "outputs": [
        {
          "output_type": "stream",
          "text": [
            "2021-05-14 19:36:21.269217: I tensorflow/stream_executor/platform/default/dso_loader.cc:49] Successfully opened dynamic library libcudart.so.11.0\n",
            "2021-05-14 19:36:24.894692: I tensorflow/compiler/jit/xla_cpu_device.cc:41] Not creating XLA devices, tf_xla_enable_xla_devices not set\n",
            "2021-05-14 19:36:24.908084: I tensorflow/stream_executor/platform/default/dso_loader.cc:49] Successfully opened dynamic library libcuda.so.1\n",
            "2021-05-14 19:36:24.968871: I tensorflow/stream_executor/cuda/cuda_gpu_executor.cc:941] successful NUMA node read from SysFS had negative value (-1), but there must be at least one NUMA node, so returning NUMA node zero\n",
            "2021-05-14 19:36:24.969469: I tensorflow/core/common_runtime/gpu/gpu_device.cc:1720] Found device 0 with properties: \n",
            "pciBusID: 0000:00:04.0 name: Tesla T4 computeCapability: 7.5\n",
            "coreClock: 1.59GHz coreCount: 40 deviceMemorySize: 14.75GiB deviceMemoryBandwidth: 298.08GiB/s\n",
            "2021-05-14 19:36:24.969510: I tensorflow/stream_executor/platform/default/dso_loader.cc:49] Successfully opened dynamic library libcudart.so.11.0\n",
            "2021-05-14 19:36:25.099285: I tensorflow/stream_executor/platform/default/dso_loader.cc:49] Successfully opened dynamic library libcublas.so.11\n",
            "2021-05-14 19:36:25.099403: I tensorflow/stream_executor/platform/default/dso_loader.cc:49] Successfully opened dynamic library libcublasLt.so.11\n",
            "2021-05-14 19:36:25.224665: I tensorflow/stream_executor/platform/default/dso_loader.cc:49] Successfully opened dynamic library libcufft.so.10\n",
            "2021-05-14 19:36:25.274509: I tensorflow/stream_executor/platform/default/dso_loader.cc:49] Successfully opened dynamic library libcurand.so.10\n",
            "2021-05-14 19:36:25.518074: I tensorflow/stream_executor/platform/default/dso_loader.cc:49] Successfully opened dynamic library libcusolver.so.10\n",
            "2021-05-14 19:36:25.576804: I tensorflow/stream_executor/platform/default/dso_loader.cc:49] Successfully opened dynamic library libcusparse.so.11\n",
            "2021-05-14 19:36:25.580802: I tensorflow/stream_executor/platform/default/dso_loader.cc:49] Successfully opened dynamic library libcudnn.so.8\n",
            "2021-05-14 19:36:25.580980: I tensorflow/stream_executor/cuda/cuda_gpu_executor.cc:941] successful NUMA node read from SysFS had negative value (-1), but there must be at least one NUMA node, so returning NUMA node zero\n",
            "2021-05-14 19:36:25.581627: I tensorflow/stream_executor/cuda/cuda_gpu_executor.cc:941] successful NUMA node read from SysFS had negative value (-1), but there must be at least one NUMA node, so returning NUMA node zero\n",
            "2021-05-14 19:36:25.584739: I tensorflow/core/common_runtime/gpu/gpu_device.cc:1862] Adding visible gpu devices: 0\n",
            "2021-05-14 19:36:25.587995: I tensorflow/compiler/jit/xla_gpu_device.cc:99] Not creating XLA devices, tf_xla_enable_xla_devices not set\n",
            "2021-05-14 19:36:25.588132: I tensorflow/stream_executor/cuda/cuda_gpu_executor.cc:941] successful NUMA node read from SysFS had negative value (-1), but there must be at least one NUMA node, so returning NUMA node zero\n",
            "2021-05-14 19:36:25.588682: I tensorflow/core/common_runtime/gpu/gpu_device.cc:1720] Found device 0 with properties: \n",
            "pciBusID: 0000:00:04.0 name: Tesla T4 computeCapability: 7.5\n",
            "coreClock: 1.59GHz coreCount: 40 deviceMemorySize: 14.75GiB deviceMemoryBandwidth: 298.08GiB/s\n",
            "2021-05-14 19:36:25.588713: I tensorflow/stream_executor/platform/default/dso_loader.cc:49] Successfully opened dynamic library libcudart.so.11.0\n",
            "2021-05-14 19:36:25.588768: I tensorflow/stream_executor/platform/default/dso_loader.cc:49] Successfully opened dynamic library libcublas.so.11\n",
            "2021-05-14 19:36:25.588794: I tensorflow/stream_executor/platform/default/dso_loader.cc:49] Successfully opened dynamic library libcublasLt.so.11\n",
            "2021-05-14 19:36:25.588819: I tensorflow/stream_executor/platform/default/dso_loader.cc:49] Successfully opened dynamic library libcufft.so.10\n",
            "2021-05-14 19:36:25.588842: I tensorflow/stream_executor/platform/default/dso_loader.cc:49] Successfully opened dynamic library libcurand.so.10\n",
            "2021-05-14 19:36:25.588870: I tensorflow/stream_executor/platform/default/dso_loader.cc:49] Successfully opened dynamic library libcusolver.so.10\n",
            "2021-05-14 19:36:25.588891: I tensorflow/stream_executor/platform/default/dso_loader.cc:49] Successfully opened dynamic library libcusparse.so.11\n",
            "2021-05-14 19:36:25.588913: I tensorflow/stream_executor/platform/default/dso_loader.cc:49] Successfully opened dynamic library libcudnn.so.8\n",
            "2021-05-14 19:36:25.589000: I tensorflow/stream_executor/cuda/cuda_gpu_executor.cc:941] successful NUMA node read from SysFS had negative value (-1), but there must be at least one NUMA node, so returning NUMA node zero\n",
            "2021-05-14 19:36:25.589567: I tensorflow/stream_executor/cuda/cuda_gpu_executor.cc:941] successful NUMA node read from SysFS had negative value (-1), but there must be at least one NUMA node, so returning NUMA node zero\n",
            "2021-05-14 19:36:25.590082: I tensorflow/core/common_runtime/gpu/gpu_device.cc:1862] Adding visible gpu devices: 0\n",
            "2021-05-14 19:36:25.592814: I tensorflow/stream_executor/platform/default/dso_loader.cc:49] Successfully opened dynamic library libcudart.so.11.0\n",
            "2021-05-14 19:36:30.137915: I tensorflow/core/common_runtime/gpu/gpu_device.cc:1261] Device interconnect StreamExecutor with strength 1 edge matrix:\n",
            "2021-05-14 19:36:30.137973: I tensorflow/core/common_runtime/gpu/gpu_device.cc:1267]      0 \n",
            "2021-05-14 19:36:30.137988: I tensorflow/core/common_runtime/gpu/gpu_device.cc:1280] 0:   N \n",
            "2021-05-14 19:36:30.143261: I tensorflow/stream_executor/cuda/cuda_gpu_executor.cc:941] successful NUMA node read from SysFS had negative value (-1), but there must be at least one NUMA node, so returning NUMA node zero\n",
            "2021-05-14 19:36:30.143925: I tensorflow/stream_executor/cuda/cuda_gpu_executor.cc:941] successful NUMA node read from SysFS had negative value (-1), but there must be at least one NUMA node, so returning NUMA node zero\n",
            "2021-05-14 19:36:30.144502: I tensorflow/stream_executor/cuda/cuda_gpu_executor.cc:941] successful NUMA node read from SysFS had negative value (-1), but there must be at least one NUMA node, so returning NUMA node zero\n",
            "2021-05-14 19:36:30.145015: W tensorflow/core/common_runtime/gpu/gpu_bfc_allocator.cc:39] Overriding allow_growth setting because the TF_FORCE_GPU_ALLOW_GROWTH environment variable is set. Original config value was 0.\n",
            "2021-05-14 19:36:30.145064: I tensorflow/core/common_runtime/gpu/gpu_device.cc:1406] Created TensorFlow device (/job:localhost/replica:0/task:0/device:GPU:0 with 13994 MB memory) -> physical GPU (device: 0, name: Tesla T4, pci bus id: 0000:00:04.0, compute capability: 7.5)\n",
            "INFO:tensorflow:Using MirroredStrategy with devices ('/job:localhost/replica:0/task:0/device:GPU:0',)\n",
            "I0514 19:36:30.154900 140631928813440 mirrored_strategy.py:350] Using MirroredStrategy with devices ('/job:localhost/replica:0/task:0/device:GPU:0',)\n",
            "INFO:tensorflow:Maybe overwriting train_steps: 20000\n",
            "I0514 19:36:30.161119 140631928813440 config_util.py:552] Maybe overwriting train_steps: 20000\n",
            "INFO:tensorflow:Maybe overwriting use_bfloat16: False\n",
            "I0514 19:36:30.161292 140631928813440 config_util.py:552] Maybe overwriting use_bfloat16: False\n",
            "WARNING:tensorflow:From /content/models/research/object_detection/model_lib_v2.py:551: StrategyBase.experimental_distribute_datasets_from_function (from tensorflow.python.distribute.distribute_lib) is deprecated and will be removed in a future version.\n",
            "Instructions for updating:\n",
            "rename to distribute_datasets_from_function\n",
            "W0514 19:36:30.979411 140631928813440 deprecation.py:339] From /content/models/research/object_detection/model_lib_v2.py:551: StrategyBase.experimental_distribute_datasets_from_function (from tensorflow.python.distribute.distribute_lib) is deprecated and will be removed in a future version.\n",
            "Instructions for updating:\n",
            "rename to distribute_datasets_from_function\n",
            "INFO:tensorflow:Reading unweighted datasets: ['craters.tfrecord']\n",
            "I0514 19:36:30.991449 140631928813440 dataset_builder.py:163] Reading unweighted datasets: ['craters.tfrecord']\n",
            "INFO:tensorflow:Reading record datasets for input file: ['craters.tfrecord']\n",
            "I0514 19:36:30.991646 140631928813440 dataset_builder.py:80] Reading record datasets for input file: ['craters.tfrecord']\n",
            "INFO:tensorflow:Number of filenames to read: 1\n",
            "I0514 19:36:30.991738 140631928813440 dataset_builder.py:81] Number of filenames to read: 1\n",
            "WARNING:tensorflow:num_readers has been reduced to 1 to match input file shards.\n",
            "W0514 19:36:30.991814 140631928813440 dataset_builder.py:88] num_readers has been reduced to 1 to match input file shards.\n",
            "WARNING:tensorflow:From /content/models/research/object_detection/builders/dataset_builder.py:105: parallel_interleave (from tensorflow.python.data.experimental.ops.interleave_ops) is deprecated and will be removed in a future version.\n",
            "Instructions for updating:\n",
            "Use `tf.data.Dataset.interleave(map_func, cycle_length, block_length, num_parallel_calls=tf.data.AUTOTUNE)` instead. If sloppy execution is desired, use `tf.data.Options.experimental_deterministic`.\n",
            "W0514 19:36:31.002879 140631928813440 deprecation.py:339] From /content/models/research/object_detection/builders/dataset_builder.py:105: parallel_interleave (from tensorflow.python.data.experimental.ops.interleave_ops) is deprecated and will be removed in a future version.\n",
            "Instructions for updating:\n",
            "Use `tf.data.Dataset.interleave(map_func, cycle_length, block_length, num_parallel_calls=tf.data.AUTOTUNE)` instead. If sloppy execution is desired, use `tf.data.Options.experimental_deterministic`.\n",
            "WARNING:tensorflow:From /content/models/research/object_detection/builders/dataset_builder.py:237: DatasetV1.map_with_legacy_function (from tensorflow.python.data.ops.dataset_ops) is deprecated and will be removed in a future version.\n",
            "Instructions for updating:\n",
            "Use `tf.data.Dataset.map()\n",
            "W0514 19:36:31.036583 140631928813440 deprecation.py:339] From /content/models/research/object_detection/builders/dataset_builder.py:237: DatasetV1.map_with_legacy_function (from tensorflow.python.data.ops.dataset_ops) is deprecated and will be removed in a future version.\n",
            "Instructions for updating:\n",
            "Use `tf.data.Dataset.map()\n",
            "WARNING:tensorflow:From /usr/local/lib/python3.7/dist-packages/tensorflow/python/util/dispatch.py:201: sparse_to_dense (from tensorflow.python.ops.sparse_ops) is deprecated and will be removed in a future version.\n",
            "Instructions for updating:\n",
            "Create a `tf.sparse.SparseTensor` and use `tf.sparse.to_dense` instead.\n",
            "W0514 19:36:37.657395 140631928813440 deprecation.py:339] From /usr/local/lib/python3.7/dist-packages/tensorflow/python/util/dispatch.py:201: sparse_to_dense (from tensorflow.python.ops.sparse_ops) is deprecated and will be removed in a future version.\n",
            "Instructions for updating:\n",
            "Create a `tf.sparse.SparseTensor` and use `tf.sparse.to_dense` instead.\n",
            "WARNING:tensorflow:From /usr/local/lib/python3.7/dist-packages/tensorflow/python/util/dispatch.py:201: sample_distorted_bounding_box (from tensorflow.python.ops.image_ops_impl) is deprecated and will be removed in a future version.\n",
            "Instructions for updating:\n",
            "`seed2` arg is deprecated.Use sample_distorted_bounding_box_v2 instead.\n",
            "W0514 19:36:40.656474 140631928813440 deprecation.py:339] From /usr/local/lib/python3.7/dist-packages/tensorflow/python/util/dispatch.py:201: sample_distorted_bounding_box (from tensorflow.python.ops.image_ops_impl) is deprecated and will be removed in a future version.\n",
            "Instructions for updating:\n",
            "`seed2` arg is deprecated.Use sample_distorted_bounding_box_v2 instead.\n",
            "WARNING:tensorflow:From /content/models/research/object_detection/inputs.py:282: to_float (from tensorflow.python.ops.math_ops) is deprecated and will be removed in a future version.\n",
            "Instructions for updating:\n",
            "Use `tf.cast` instead.\n",
            "W0514 19:36:43.521884 140631928813440 deprecation.py:339] From /content/models/research/object_detection/inputs.py:282: to_float (from tensorflow.python.ops.math_ops) is deprecated and will be removed in a future version.\n",
            "Instructions for updating:\n",
            "Use `tf.cast` instead.\n",
            "2021-05-14 19:36:45.677534: I tensorflow/compiler/mlir/mlir_graph_optimization_pass.cc:116] None of the MLIR optimization passes are enabled (registered 2)\n",
            "2021-05-14 19:36:45.684085: I tensorflow/core/platform/profile_utils/cpu_utils.cc:112] CPU Frequency: 2199995000 Hz\n",
            "/usr/local/lib/python3.7/dist-packages/tensorflow/python/keras/backend.py:434: UserWarning: `tf.keras.backend.set_learning_phase` is deprecated and will be removed after 2020-10-11. To update it, simply pass a True/False value to the `training` argument of the `__call__` method of your layer or model.\n",
            "  warnings.warn('`tf.keras.backend.set_learning_phase` is deprecated and '\n",
            "2021-05-14 19:37:04.168402: I tensorflow/stream_executor/platform/default/dso_loader.cc:49] Successfully opened dynamic library libcudnn.so.8\n",
            "2021-05-14 19:37:33.379935: I tensorflow/stream_executor/platform/default/dso_loader.cc:49] Successfully opened dynamic library libcublas.so.11\n",
            "2021-05-14 19:37:35.897683: I tensorflow/stream_executor/platform/default/dso_loader.cc:49] Successfully opened dynamic library libcublasLt.so.11\n",
            "WARNING:tensorflow:Unresolved object in checkpoint: (root).model._prediction_head_dict\n",
            "W0514 19:37:40.855933 140631928813440 util.py:161] Unresolved object in checkpoint: (root).model._prediction_head_dict\n",
            "WARNING:tensorflow:Unresolved object in checkpoint: (root).model._target_assigner_dict\n",
            "W0514 19:37:40.856335 140631928813440 util.py:161] Unresolved object in checkpoint: (root).model._target_assigner_dict\n",
            "WARNING:tensorflow:Unresolved object in checkpoint: (root).model._batched_prediction_tensor_names\n",
            "W0514 19:37:40.856431 140631928813440 util.py:161] Unresolved object in checkpoint: (root).model._batched_prediction_tensor_names\n",
            "WARNING:tensorflow:Unresolved object in checkpoint: (root).model._groundtruth_lists\n",
            "W0514 19:37:40.856508 140631928813440 util.py:161] Unresolved object in checkpoint: (root).model._groundtruth_lists\n",
            "WARNING:tensorflow:Unresolved object in checkpoint: (root).model._prediction_head_dict.object_center\n",
            "W0514 19:37:40.856578 140631928813440 util.py:161] Unresolved object in checkpoint: (root).model._prediction_head_dict.object_center\n",
            "WARNING:tensorflow:Unresolved object in checkpoint: (root).model._prediction_head_dict.box/scale\n",
            "W0514 19:37:40.856645 140631928813440 util.py:161] Unresolved object in checkpoint: (root).model._prediction_head_dict.box/scale\n",
            "WARNING:tensorflow:Unresolved object in checkpoint: (root).model._prediction_head_dict.box/offset\n",
            "W0514 19:37:40.856715 140631928813440 util.py:161] Unresolved object in checkpoint: (root).model._prediction_head_dict.box/offset\n",
            "WARNING:tensorflow:Unresolved object in checkpoint: (root).model._prediction_head_dict.object_center.0\n",
            "W0514 19:37:40.856783 140631928813440 util.py:161] Unresolved object in checkpoint: (root).model._prediction_head_dict.object_center.0\n",
            "WARNING:tensorflow:Unresolved object in checkpoint: (root).model._prediction_head_dict.object_center.1\n",
            "W0514 19:37:40.856848 140631928813440 util.py:161] Unresolved object in checkpoint: (root).model._prediction_head_dict.object_center.1\n",
            "WARNING:tensorflow:Unresolved object in checkpoint: (root).model._prediction_head_dict.box/scale.0\n",
            "W0514 19:37:40.856913 140631928813440 util.py:161] Unresolved object in checkpoint: (root).model._prediction_head_dict.box/scale.0\n",
            "WARNING:tensorflow:Unresolved object in checkpoint: (root).model._prediction_head_dict.box/scale.1\n",
            "W0514 19:37:40.856991 140631928813440 util.py:161] Unresolved object in checkpoint: (root).model._prediction_head_dict.box/scale.1\n",
            "WARNING:tensorflow:Unresolved object in checkpoint: (root).model._prediction_head_dict.box/offset.0\n",
            "W0514 19:37:40.857056 140631928813440 util.py:161] Unresolved object in checkpoint: (root).model._prediction_head_dict.box/offset.0\n",
            "WARNING:tensorflow:Unresolved object in checkpoint: (root).model._prediction_head_dict.box/offset.1\n",
            "W0514 19:37:40.857122 140631928813440 util.py:161] Unresolved object in checkpoint: (root).model._prediction_head_dict.box/offset.1\n",
            "WARNING:tensorflow:Unresolved object in checkpoint: (root).model._prediction_head_dict.object_center.0.layer_with_weights-0\n",
            "W0514 19:37:40.857193 140631928813440 util.py:161] Unresolved object in checkpoint: (root).model._prediction_head_dict.object_center.0.layer_with_weights-0\n",
            "WARNING:tensorflow:Unresolved object in checkpoint: (root).model._prediction_head_dict.object_center.0.layer-1\n",
            "W0514 19:37:40.857259 140631928813440 util.py:161] Unresolved object in checkpoint: (root).model._prediction_head_dict.object_center.0.layer-1\n",
            "WARNING:tensorflow:Unresolved object in checkpoint: (root).model._prediction_head_dict.object_center.0.layer_with_weights-1\n",
            "W0514 19:37:40.857325 140631928813440 util.py:161] Unresolved object in checkpoint: (root).model._prediction_head_dict.object_center.0.layer_with_weights-1\n",
            "WARNING:tensorflow:Unresolved object in checkpoint: (root).model._prediction_head_dict.object_center.1.layer_with_weights-0\n",
            "W0514 19:37:40.857389 140631928813440 util.py:161] Unresolved object in checkpoint: (root).model._prediction_head_dict.object_center.1.layer_with_weights-0\n",
            "WARNING:tensorflow:Unresolved object in checkpoint: (root).model._prediction_head_dict.object_center.1.layer-1\n",
            "W0514 19:37:40.857455 140631928813440 util.py:161] Unresolved object in checkpoint: (root).model._prediction_head_dict.object_center.1.layer-1\n",
            "WARNING:tensorflow:Unresolved object in checkpoint: (root).model._prediction_head_dict.object_center.1.layer_with_weights-1\n",
            "W0514 19:37:40.857519 140631928813440 util.py:161] Unresolved object in checkpoint: (root).model._prediction_head_dict.object_center.1.layer_with_weights-1\n",
            "WARNING:tensorflow:Unresolved object in checkpoint: (root).model._prediction_head_dict.box/scale.0.layer_with_weights-0\n",
            "W0514 19:37:40.857584 140631928813440 util.py:161] Unresolved object in checkpoint: (root).model._prediction_head_dict.box/scale.0.layer_with_weights-0\n",
            "WARNING:tensorflow:Unresolved object in checkpoint: (root).model._prediction_head_dict.box/scale.0.layer-1\n",
            "W0514 19:37:40.857648 140631928813440 util.py:161] Unresolved object in checkpoint: (root).model._prediction_head_dict.box/scale.0.layer-1\n",
            "WARNING:tensorflow:Unresolved object in checkpoint: (root).model._prediction_head_dict.box/scale.0.layer_with_weights-1\n",
            "W0514 19:37:40.857714 140631928813440 util.py:161] Unresolved object in checkpoint: (root).model._prediction_head_dict.box/scale.0.layer_with_weights-1\n",
            "WARNING:tensorflow:Unresolved object in checkpoint: (root).model._prediction_head_dict.box/scale.1.layer_with_weights-0\n",
            "W0514 19:37:40.857778 140631928813440 util.py:161] Unresolved object in checkpoint: (root).model._prediction_head_dict.box/scale.1.layer_with_weights-0\n",
            "WARNING:tensorflow:Unresolved object in checkpoint: (root).model._prediction_head_dict.box/scale.1.layer-1\n",
            "W0514 19:37:40.857843 140631928813440 util.py:161] Unresolved object in checkpoint: (root).model._prediction_head_dict.box/scale.1.layer-1\n",
            "WARNING:tensorflow:Unresolved object in checkpoint: (root).model._prediction_head_dict.box/scale.1.layer_with_weights-1\n",
            "W0514 19:37:40.857908 140631928813440 util.py:161] Unresolved object in checkpoint: (root).model._prediction_head_dict.box/scale.1.layer_with_weights-1\n",
            "WARNING:tensorflow:Unresolved object in checkpoint: (root).model._prediction_head_dict.box/offset.0.layer_with_weights-0\n",
            "W0514 19:37:40.857981 140631928813440 util.py:161] Unresolved object in checkpoint: (root).model._prediction_head_dict.box/offset.0.layer_with_weights-0\n",
            "WARNING:tensorflow:Unresolved object in checkpoint: (root).model._prediction_head_dict.box/offset.0.layer-1\n",
            "W0514 19:37:40.858046 140631928813440 util.py:161] Unresolved object in checkpoint: (root).model._prediction_head_dict.box/offset.0.layer-1\n",
            "WARNING:tensorflow:Unresolved object in checkpoint: (root).model._prediction_head_dict.box/offset.0.layer_with_weights-1\n",
            "W0514 19:37:40.858112 140631928813440 util.py:161] Unresolved object in checkpoint: (root).model._prediction_head_dict.box/offset.0.layer_with_weights-1\n",
            "WARNING:tensorflow:Unresolved object in checkpoint: (root).model._prediction_head_dict.box/offset.1.layer_with_weights-0\n",
            "W0514 19:37:40.858182 140631928813440 util.py:161] Unresolved object in checkpoint: (root).model._prediction_head_dict.box/offset.1.layer_with_weights-0\n",
            "WARNING:tensorflow:Unresolved object in checkpoint: (root).model._prediction_head_dict.box/offset.1.layer-1\n",
            "W0514 19:37:40.858248 140631928813440 util.py:161] Unresolved object in checkpoint: (root).model._prediction_head_dict.box/offset.1.layer-1\n",
            "WARNING:tensorflow:Unresolved object in checkpoint: (root).model._prediction_head_dict.box/offset.1.layer_with_weights-1\n",
            "W0514 19:37:40.858312 140631928813440 util.py:161] Unresolved object in checkpoint: (root).model._prediction_head_dict.box/offset.1.layer_with_weights-1\n",
            "WARNING:tensorflow:Unresolved object in checkpoint: (root).model._prediction_head_dict.object_center.0.layer_with_weights-0._inbound_nodes\n",
            "W0514 19:37:40.858381 140631928813440 util.py:161] Unresolved object in checkpoint: (root).model._prediction_head_dict.object_center.0.layer_with_weights-0._inbound_nodes\n",
            "WARNING:tensorflow:Unresolved object in checkpoint: (root).model._prediction_head_dict.object_center.0.layer_with_weights-0.kernel\n",
            "W0514 19:37:40.858446 140631928813440 util.py:161] Unresolved object in checkpoint: (root).model._prediction_head_dict.object_center.0.layer_with_weights-0.kernel\n",
            "WARNING:tensorflow:Unresolved object in checkpoint: (root).model._prediction_head_dict.object_center.0.layer_with_weights-0.bias\n",
            "W0514 19:37:40.858510 140631928813440 util.py:161] Unresolved object in checkpoint: (root).model._prediction_head_dict.object_center.0.layer_with_weights-0.bias\n",
            "WARNING:tensorflow:Unresolved object in checkpoint: (root).model._prediction_head_dict.object_center.0.layer-1._inbound_nodes\n",
            "W0514 19:37:40.858574 140631928813440 util.py:161] Unresolved object in checkpoint: (root).model._prediction_head_dict.object_center.0.layer-1._inbound_nodes\n",
            "WARNING:tensorflow:Unresolved object in checkpoint: (root).model._prediction_head_dict.object_center.0.layer_with_weights-1._inbound_nodes\n",
            "W0514 19:37:40.858641 140631928813440 util.py:161] Unresolved object in checkpoint: (root).model._prediction_head_dict.object_center.0.layer_with_weights-1._inbound_nodes\n",
            "WARNING:tensorflow:Unresolved object in checkpoint: (root).model._prediction_head_dict.object_center.0.layer_with_weights-1.kernel\n",
            "W0514 19:37:40.858707 140631928813440 util.py:161] Unresolved object in checkpoint: (root).model._prediction_head_dict.object_center.0.layer_with_weights-1.kernel\n",
            "WARNING:tensorflow:Unresolved object in checkpoint: (root).model._prediction_head_dict.object_center.0.layer_with_weights-1.bias\n",
            "W0514 19:37:40.858772 140631928813440 util.py:161] Unresolved object in checkpoint: (root).model._prediction_head_dict.object_center.0.layer_with_weights-1.bias\n",
            "WARNING:tensorflow:Unresolved object in checkpoint: (root).model._prediction_head_dict.object_center.1.layer_with_weights-0._inbound_nodes\n",
            "W0514 19:37:40.858838 140631928813440 util.py:161] Unresolved object in checkpoint: (root).model._prediction_head_dict.object_center.1.layer_with_weights-0._inbound_nodes\n",
            "WARNING:tensorflow:Unresolved object in checkpoint: (root).model._prediction_head_dict.object_center.1.layer_with_weights-0.kernel\n",
            "W0514 19:37:40.858903 140631928813440 util.py:161] Unresolved object in checkpoint: (root).model._prediction_head_dict.object_center.1.layer_with_weights-0.kernel\n",
            "WARNING:tensorflow:Unresolved object in checkpoint: (root).model._prediction_head_dict.object_center.1.layer_with_weights-0.bias\n",
            "W0514 19:37:40.858975 140631928813440 util.py:161] Unresolved object in checkpoint: (root).model._prediction_head_dict.object_center.1.layer_with_weights-0.bias\n",
            "WARNING:tensorflow:Unresolved object in checkpoint: (root).model._prediction_head_dict.object_center.1.layer-1._inbound_nodes\n",
            "W0514 19:37:40.859040 140631928813440 util.py:161] Unresolved object in checkpoint: (root).model._prediction_head_dict.object_center.1.layer-1._inbound_nodes\n",
            "WARNING:tensorflow:Unresolved object in checkpoint: (root).model._prediction_head_dict.object_center.1.layer_with_weights-1._inbound_nodes\n",
            "W0514 19:37:40.859105 140631928813440 util.py:161] Unresolved object in checkpoint: (root).model._prediction_head_dict.object_center.1.layer_with_weights-1._inbound_nodes\n",
            "WARNING:tensorflow:Unresolved object in checkpoint: (root).model._prediction_head_dict.object_center.1.layer_with_weights-1.kernel\n",
            "W0514 19:37:40.859174 140631928813440 util.py:161] Unresolved object in checkpoint: (root).model._prediction_head_dict.object_center.1.layer_with_weights-1.kernel\n",
            "WARNING:tensorflow:Unresolved object in checkpoint: (root).model._prediction_head_dict.object_center.1.layer_with_weights-1.bias\n",
            "W0514 19:37:40.859240 140631928813440 util.py:161] Unresolved object in checkpoint: (root).model._prediction_head_dict.object_center.1.layer_with_weights-1.bias\n",
            "WARNING:tensorflow:Unresolved object in checkpoint: (root).model._prediction_head_dict.box/scale.0.layer_with_weights-0._inbound_nodes\n",
            "W0514 19:37:40.859305 140631928813440 util.py:161] Unresolved object in checkpoint: (root).model._prediction_head_dict.box/scale.0.layer_with_weights-0._inbound_nodes\n",
            "WARNING:tensorflow:Unresolved object in checkpoint: (root).model._prediction_head_dict.box/scale.0.layer_with_weights-0.kernel\n",
            "W0514 19:37:40.859369 140631928813440 util.py:161] Unresolved object in checkpoint: (root).model._prediction_head_dict.box/scale.0.layer_with_weights-0.kernel\n",
            "WARNING:tensorflow:Unresolved object in checkpoint: (root).model._prediction_head_dict.box/scale.0.layer_with_weights-0.bias\n",
            "W0514 19:37:40.859434 140631928813440 util.py:161] Unresolved object in checkpoint: (root).model._prediction_head_dict.box/scale.0.layer_with_weights-0.bias\n",
            "WARNING:tensorflow:Unresolved object in checkpoint: (root).model._prediction_head_dict.box/scale.0.layer-1._inbound_nodes\n",
            "W0514 19:37:40.859498 140631928813440 util.py:161] Unresolved object in checkpoint: (root).model._prediction_head_dict.box/scale.0.layer-1._inbound_nodes\n",
            "WARNING:tensorflow:Unresolved object in checkpoint: (root).model._prediction_head_dict.box/scale.0.layer_with_weights-1._inbound_nodes\n",
            "W0514 19:37:40.859562 140631928813440 util.py:161] Unresolved object in checkpoint: (root).model._prediction_head_dict.box/scale.0.layer_with_weights-1._inbound_nodes\n",
            "WARNING:tensorflow:Unresolved object in checkpoint: (root).model._prediction_head_dict.box/scale.0.layer_with_weights-1.kernel\n",
            "W0514 19:37:40.859627 140631928813440 util.py:161] Unresolved object in checkpoint: (root).model._prediction_head_dict.box/scale.0.layer_with_weights-1.kernel\n",
            "WARNING:tensorflow:Unresolved object in checkpoint: (root).model._prediction_head_dict.box/scale.0.layer_with_weights-1.bias\n",
            "W0514 19:37:40.859697 140631928813440 util.py:161] Unresolved object in checkpoint: (root).model._prediction_head_dict.box/scale.0.layer_with_weights-1.bias\n",
            "WARNING:tensorflow:Unresolved object in checkpoint: (root).model._prediction_head_dict.box/scale.1.layer_with_weights-0._inbound_nodes\n",
            "W0514 19:37:40.859762 140631928813440 util.py:161] Unresolved object in checkpoint: (root).model._prediction_head_dict.box/scale.1.layer_with_weights-0._inbound_nodes\n",
            "WARNING:tensorflow:Unresolved object in checkpoint: (root).model._prediction_head_dict.box/scale.1.layer_with_weights-0.kernel\n",
            "W0514 19:37:40.859827 140631928813440 util.py:161] Unresolved object in checkpoint: (root).model._prediction_head_dict.box/scale.1.layer_with_weights-0.kernel\n",
            "WARNING:tensorflow:Unresolved object in checkpoint: (root).model._prediction_head_dict.box/scale.1.layer_with_weights-0.bias\n",
            "W0514 19:37:40.859891 140631928813440 util.py:161] Unresolved object in checkpoint: (root).model._prediction_head_dict.box/scale.1.layer_with_weights-0.bias\n",
            "WARNING:tensorflow:Unresolved object in checkpoint: (root).model._prediction_head_dict.box/scale.1.layer-1._inbound_nodes\n",
            "W0514 19:37:40.859963 140631928813440 util.py:161] Unresolved object in checkpoint: (root).model._prediction_head_dict.box/scale.1.layer-1._inbound_nodes\n",
            "WARNING:tensorflow:Unresolved object in checkpoint: (root).model._prediction_head_dict.box/scale.1.layer_with_weights-1._inbound_nodes\n",
            "W0514 19:37:40.860029 140631928813440 util.py:161] Unresolved object in checkpoint: (root).model._prediction_head_dict.box/scale.1.layer_with_weights-1._inbound_nodes\n",
            "WARNING:tensorflow:Unresolved object in checkpoint: (root).model._prediction_head_dict.box/scale.1.layer_with_weights-1.kernel\n",
            "W0514 19:37:40.860095 140631928813440 util.py:161] Unresolved object in checkpoint: (root).model._prediction_head_dict.box/scale.1.layer_with_weights-1.kernel\n",
            "WARNING:tensorflow:Unresolved object in checkpoint: (root).model._prediction_head_dict.box/scale.1.layer_with_weights-1.bias\n",
            "W0514 19:37:40.860164 140631928813440 util.py:161] Unresolved object in checkpoint: (root).model._prediction_head_dict.box/scale.1.layer_with_weights-1.bias\n",
            "WARNING:tensorflow:Unresolved object in checkpoint: (root).model._prediction_head_dict.box/offset.0.layer_with_weights-0._inbound_nodes\n",
            "W0514 19:37:40.860234 140631928813440 util.py:161] Unresolved object in checkpoint: (root).model._prediction_head_dict.box/offset.0.layer_with_weights-0._inbound_nodes\n",
            "WARNING:tensorflow:Unresolved object in checkpoint: (root).model._prediction_head_dict.box/offset.0.layer_with_weights-0.kernel\n",
            "W0514 19:37:40.860298 140631928813440 util.py:161] Unresolved object in checkpoint: (root).model._prediction_head_dict.box/offset.0.layer_with_weights-0.kernel\n",
            "WARNING:tensorflow:Unresolved object in checkpoint: (root).model._prediction_head_dict.box/offset.0.layer_with_weights-0.bias\n",
            "W0514 19:37:40.860363 140631928813440 util.py:161] Unresolved object in checkpoint: (root).model._prediction_head_dict.box/offset.0.layer_with_weights-0.bias\n",
            "WARNING:tensorflow:Unresolved object in checkpoint: (root).model._prediction_head_dict.box/offset.0.layer-1._inbound_nodes\n",
            "W0514 19:37:40.860428 140631928813440 util.py:161] Unresolved object in checkpoint: (root).model._prediction_head_dict.box/offset.0.layer-1._inbound_nodes\n",
            "WARNING:tensorflow:Unresolved object in checkpoint: (root).model._prediction_head_dict.box/offset.0.layer_with_weights-1._inbound_nodes\n",
            "W0514 19:37:40.860492 140631928813440 util.py:161] Unresolved object in checkpoint: (root).model._prediction_head_dict.box/offset.0.layer_with_weights-1._inbound_nodes\n",
            "WARNING:tensorflow:Unresolved object in checkpoint: (root).model._prediction_head_dict.box/offset.0.layer_with_weights-1.kernel\n",
            "W0514 19:37:40.894877 140631928813440 util.py:161] Unresolved object in checkpoint: (root).model._prediction_head_dict.box/offset.0.layer_with_weights-1.kernel\n",
            "WARNING:tensorflow:Unresolved object in checkpoint: (root).model._prediction_head_dict.box/offset.0.layer_with_weights-1.bias\n",
            "W0514 19:37:40.895256 140631928813440 util.py:161] Unresolved object in checkpoint: (root).model._prediction_head_dict.box/offset.0.layer_with_weights-1.bias\n",
            "WARNING:tensorflow:Unresolved object in checkpoint: (root).model._prediction_head_dict.box/offset.1.layer_with_weights-0._inbound_nodes\n",
            "W0514 19:37:40.895475 140631928813440 util.py:161] Unresolved object in checkpoint: (root).model._prediction_head_dict.box/offset.1.layer_with_weights-0._inbound_nodes\n",
            "WARNING:tensorflow:Unresolved object in checkpoint: (root).model._prediction_head_dict.box/offset.1.layer_with_weights-0.kernel\n",
            "W0514 19:37:40.895829 140631928813440 util.py:161] Unresolved object in checkpoint: (root).model._prediction_head_dict.box/offset.1.layer_with_weights-0.kernel\n",
            "WARNING:tensorflow:Unresolved object in checkpoint: (root).model._prediction_head_dict.box/offset.1.layer_with_weights-0.bias\n",
            "W0514 19:37:40.896370 140631928813440 util.py:161] Unresolved object in checkpoint: (root).model._prediction_head_dict.box/offset.1.layer_with_weights-0.bias\n",
            "WARNING:tensorflow:Unresolved object in checkpoint: (root).model._prediction_head_dict.box/offset.1.layer-1._inbound_nodes\n",
            "W0514 19:37:40.896515 140631928813440 util.py:161] Unresolved object in checkpoint: (root).model._prediction_head_dict.box/offset.1.layer-1._inbound_nodes\n",
            "WARNING:tensorflow:Unresolved object in checkpoint: (root).model._prediction_head_dict.box/offset.1.layer_with_weights-1._inbound_nodes\n",
            "W0514 19:37:40.896720 140631928813440 util.py:161] Unresolved object in checkpoint: (root).model._prediction_head_dict.box/offset.1.layer_with_weights-1._inbound_nodes\n",
            "WARNING:tensorflow:Unresolved object in checkpoint: (root).model._prediction_head_dict.box/offset.1.layer_with_weights-1.kernel\n",
            "W0514 19:37:40.896827 140631928813440 util.py:161] Unresolved object in checkpoint: (root).model._prediction_head_dict.box/offset.1.layer_with_weights-1.kernel\n",
            "WARNING:tensorflow:Unresolved object in checkpoint: (root).model._prediction_head_dict.box/offset.1.layer_with_weights-1.bias\n",
            "W0514 19:37:40.896921 140631928813440 util.py:161] Unresolved object in checkpoint: (root).model._prediction_head_dict.box/offset.1.layer_with_weights-1.bias\n",
            "WARNING:tensorflow:A checkpoint was restored (e.g. tf.train.Checkpoint.restore or tf.keras.Model.load_weights) but not all checkpointed values were used. See above for specific issues. Use expect_partial() on the load status object, e.g. tf.train.Checkpoint.restore(...).expect_partial(), to silence these warnings, or use assert_consumed() to make the check explicit. See https://www.tensorflow.org/guide/checkpoint#loading_mechanics for details.\n",
            "W0514 19:37:40.897273 140631928813440 util.py:169] A checkpoint was restored (e.g. tf.train.Checkpoint.restore or tf.keras.Model.load_weights) but not all checkpointed values were used. See above for specific issues. Use expect_partial() on the load status object, e.g. tf.train.Checkpoint.restore(...).expect_partial(), to silence these warnings, or use assert_consumed() to make the check explicit. See https://www.tensorflow.org/guide/checkpoint#loading_mechanics for details.\n",
            "INFO:tensorflow:Reduce to /job:localhost/replica:0/task:0/device:CPU:0 then broadcast to ('/job:localhost/replica:0/task:0/device:CPU:0',).\n",
            "I0514 19:37:41.573555 140631928813440 cross_device_ops.py:565] Reduce to /job:localhost/replica:0/task:0/device:CPU:0 then broadcast to ('/job:localhost/replica:0/task:0/device:CPU:0',).\n",
            "INFO:tensorflow:Reduce to /job:localhost/replica:0/task:0/device:CPU:0 then broadcast to ('/job:localhost/replica:0/task:0/device:CPU:0',).\n",
            "I0514 19:37:41.574686 140631928813440 cross_device_ops.py:565] Reduce to /job:localhost/replica:0/task:0/device:CPU:0 then broadcast to ('/job:localhost/replica:0/task:0/device:CPU:0',).\n",
            "INFO:tensorflow:Reduce to /job:localhost/replica:0/task:0/device:CPU:0 then broadcast to ('/job:localhost/replica:0/task:0/device:CPU:0',).\n",
            "I0514 19:37:41.577442 140631928813440 cross_device_ops.py:565] Reduce to /job:localhost/replica:0/task:0/device:CPU:0 then broadcast to ('/job:localhost/replica:0/task:0/device:CPU:0',).\n",
            "INFO:tensorflow:Reduce to /job:localhost/replica:0/task:0/device:CPU:0 then broadcast to ('/job:localhost/replica:0/task:0/device:CPU:0',).\n",
            "I0514 19:37:41.578267 140631928813440 cross_device_ops.py:565] Reduce to /job:localhost/replica:0/task:0/device:CPU:0 then broadcast to ('/job:localhost/replica:0/task:0/device:CPU:0',).\n",
            "INFO:tensorflow:Reduce to /job:localhost/replica:0/task:0/device:CPU:0 then broadcast to ('/job:localhost/replica:0/task:0/device:CPU:0',).\n",
            "I0514 19:37:41.580977 140631928813440 cross_device_ops.py:565] Reduce to /job:localhost/replica:0/task:0/device:CPU:0 then broadcast to ('/job:localhost/replica:0/task:0/device:CPU:0',).\n",
            "INFO:tensorflow:Reduce to /job:localhost/replica:0/task:0/device:CPU:0 then broadcast to ('/job:localhost/replica:0/task:0/device:CPU:0',).\n",
            "I0514 19:37:41.581775 140631928813440 cross_device_ops.py:565] Reduce to /job:localhost/replica:0/task:0/device:CPU:0 then broadcast to ('/job:localhost/replica:0/task:0/device:CPU:0',).\n",
            "INFO:tensorflow:Reduce to /job:localhost/replica:0/task:0/device:CPU:0 then broadcast to ('/job:localhost/replica:0/task:0/device:CPU:0',).\n",
            "I0514 19:37:41.584469 140631928813440 cross_device_ops.py:565] Reduce to /job:localhost/replica:0/task:0/device:CPU:0 then broadcast to ('/job:localhost/replica:0/task:0/device:CPU:0',).\n",
            "INFO:tensorflow:Reduce to /job:localhost/replica:0/task:0/device:CPU:0 then broadcast to ('/job:localhost/replica:0/task:0/device:CPU:0',).\n",
            "I0514 19:37:41.585283 140631928813440 cross_device_ops.py:565] Reduce to /job:localhost/replica:0/task:0/device:CPU:0 then broadcast to ('/job:localhost/replica:0/task:0/device:CPU:0',).\n",
            "INFO:tensorflow:Reduce to /job:localhost/replica:0/task:0/device:CPU:0 then broadcast to ('/job:localhost/replica:0/task:0/device:CPU:0',).\n",
            "I0514 19:37:41.587282 140631928813440 cross_device_ops.py:565] Reduce to /job:localhost/replica:0/task:0/device:CPU:0 then broadcast to ('/job:localhost/replica:0/task:0/device:CPU:0',).\n",
            "INFO:tensorflow:Reduce to /job:localhost/replica:0/task:0/device:CPU:0 then broadcast to ('/job:localhost/replica:0/task:0/device:CPU:0',).\n",
            "I0514 19:37:41.588093 140631928813440 cross_device_ops.py:565] Reduce to /job:localhost/replica:0/task:0/device:CPU:0 then broadcast to ('/job:localhost/replica:0/task:0/device:CPU:0',).\n",
            "WARNING:tensorflow:From /usr/local/lib/python3.7/dist-packages/tensorflow/python/util/deprecation.py:605: calling map_fn_v2 (from tensorflow.python.ops.map_fn) with dtype is deprecated and will be removed in a future version.\n",
            "Instructions for updating:\n",
            "Use fn_output_signature instead\n",
            "W0514 19:38:03.140956 140631177242368 deprecation.py:537] From /usr/local/lib/python3.7/dist-packages/tensorflow/python/util/deprecation.py:605: calling map_fn_v2 (from tensorflow.python.ops.map_fn) with dtype is deprecated and will be removed in a future version.\n",
            "Instructions for updating:\n",
            "Use fn_output_signature instead\n",
            "INFO:tensorflow:Step 100 per-step time 2.662s loss=1.233\n",
            "I0514 19:42:11.449785 140631928813440 model_lib_v2.py:683] Step 100 per-step time 2.662s loss=1.233\n",
            "INFO:tensorflow:Step 200 per-step time 1.495s loss=0.824\n",
            "I0514 19:44:40.985545 140631928813440 model_lib_v2.py:683] Step 200 per-step time 1.495s loss=0.824\n",
            "INFO:tensorflow:Step 300 per-step time 1.498s loss=0.794\n",
            "I0514 19:47:10.804281 140631928813440 model_lib_v2.py:683] Step 300 per-step time 1.498s loss=0.794\n",
            "INFO:tensorflow:Step 400 per-step time 1.496s loss=0.626\n",
            "I0514 19:49:40.419696 140631928813440 model_lib_v2.py:683] Step 400 per-step time 1.496s loss=0.626\n",
            "INFO:tensorflow:Step 500 per-step time 1.498s loss=0.874\n",
            "I0514 19:52:10.193782 140631928813440 model_lib_v2.py:683] Step 500 per-step time 1.498s loss=0.874\n",
            "INFO:tensorflow:Step 600 per-step time 1.497s loss=0.495\n",
            "I0514 19:54:39.870892 140631928813440 model_lib_v2.py:683] Step 600 per-step time 1.497s loss=0.495\n",
            "INFO:tensorflow:Step 700 per-step time 1.497s loss=0.554\n",
            "I0514 19:57:09.554065 140631928813440 model_lib_v2.py:683] Step 700 per-step time 1.497s loss=0.554\n",
            "INFO:tensorflow:Step 800 per-step time 1.495s loss=0.606\n",
            "I0514 19:59:39.020461 140631928813440 model_lib_v2.py:683] Step 800 per-step time 1.495s loss=0.606\n",
            "INFO:tensorflow:Step 900 per-step time 1.495s loss=0.435\n",
            "I0514 20:02:08.521231 140631928813440 model_lib_v2.py:683] Step 900 per-step time 1.495s loss=0.435\n"
          ],
          "name": "stdout"
        }
      ]
    },
    {
      "cell_type": "code",
      "metadata": {
        "id": "MdJnpHc5TkUK"
      },
      "source": [
        "fine_tune_checkpoint_type: \"classification\""
      ],
      "execution_count": null,
      "outputs": []
    },
    {
      "cell_type": "code",
      "metadata": {
        "id": "QYAQ9qIPWaao"
      },
      "source": [
        "! rm -r results"
      ],
      "execution_count": null,
      "outputs": []
    }
  ]
}